{
 "cells": [
  {
   "cell_type": "markdown",
   "id": "434f9527",
   "metadata": {},
   "source": [
    "##  1. What exactly is []?"
   ]
  },
  {
   "cell_type": "markdown",
   "id": "8bee533d",
   "metadata": {},
   "source": [
    "when you want to create an empty list you can write the name of the list and assign [] it will create an empty list for you.[] is a literal to create empty list."
   ]
  },
  {
   "cell_type": "markdown",
   "id": "5f440cb2",
   "metadata": {},
   "source": [
    "## 2. In a list of values stored in a variable called spam, how would you assign the value &#39;hello&#39; as the third value? (Assume [2, 4, 6, 8, 10] are in spam.)\n",
    "\n"
   ]
  },
  {
   "cell_type": "code",
   "execution_count": 2,
   "id": "588f4f9f",
   "metadata": {},
   "outputs": [
    {
     "name": "stdout",
     "output_type": "stream",
     "text": [
      "[2, 4, 'hello', 8, 10]\n"
     ]
    }
   ],
   "source": [
    "spam=[2,4,6,8,10]\n",
    "spam[2]=\"hello\"\n",
    "print(spam)"
   ]
  },
  {
   "cell_type": "markdown",
   "id": "dd5470c2",
   "metadata": {},
   "source": [
    "## Let&#39;s pretend the spam includes the list [&#39;a&#39;, &#39;b&#39;, &#39;c&#39;, &#39;d&#39;] for the next three queries."
   ]
  },
  {
   "cell_type": "markdown",
   "id": "848d5071",
   "metadata": {},
   "source": [
    "## 3. What is the value of spam[int(int(&#39;3&#39; * 2) / 11)]?"
   ]
  },
  {
   "cell_type": "code",
   "execution_count": 6,
   "id": "00219f87",
   "metadata": {},
   "outputs": [
    {
     "data": {
      "text/plain": [
       "'d'"
      ]
     },
     "execution_count": 6,
     "metadata": {},
     "output_type": "execute_result"
    }
   ],
   "source": [
    "spam=['a', 'b', 'c', 'd']\n",
    "b=spam[int(int('3' * 2) / 11)]\n",
    "b"
   ]
  },
  {
   "cell_type": "markdown",
   "id": "46de5529",
   "metadata": {},
   "source": [
    "# --------practise\n",
    "a=int(int('3' * 2) / 11)\n",
    "\n",
    "print(a)\n",
    "\n",
    "b=int('3' * 2)\n",
    "b"
   ]
  },
  {
   "cell_type": "markdown",
   "id": "1550ef16",
   "metadata": {},
   "source": [
    "## 4. What is the value of spam[-1]?"
   ]
  },
  {
   "cell_type": "code",
   "execution_count": 1,
   "id": "8bf44324",
   "metadata": {},
   "outputs": [
    {
     "data": {
      "text/plain": [
       "'d'"
      ]
     },
     "execution_count": 1,
     "metadata": {},
     "output_type": "execute_result"
    }
   ],
   "source": [
    "spam=['a', 'b', 'c', 'd']\n",
    "spam[-1]"
   ]
  },
  {
   "cell_type": "markdown",
   "id": "9c9d73f9",
   "metadata": {},
   "source": [
    "## 5. What is the value of spam[:2]?"
   ]
  },
  {
   "cell_type": "code",
   "execution_count": 7,
   "id": "95c7dfa0",
   "metadata": {},
   "outputs": [
    {
     "data": {
      "text/plain": [
       "['a', 'b']"
      ]
     },
     "execution_count": 7,
     "metadata": {},
     "output_type": "execute_result"
    }
   ],
   "source": [
    "spam=['a', 'b', 'c', 'd']\n",
    "spam[:2]"
   ]
  },
  {
   "cell_type": "markdown",
   "id": "a86b784b",
   "metadata": {},
   "source": [
    "## Let&#39;s pretend bacon has the list [3.14, &#39;cat,&#39; 11, &#39;cat,&#39; True] for the next three questions."
   ]
  },
  {
   "cell_type": "markdown",
   "id": "33359135",
   "metadata": {},
   "source": [
    "## 6. What is the value of bacon.index(&#39;cat&#39;)?"
   ]
  },
  {
   "cell_type": "code",
   "execution_count": 8,
   "id": "ff86c828",
   "metadata": {},
   "outputs": [
    {
     "data": {
      "text/plain": [
       "1"
      ]
     },
     "execution_count": 8,
     "metadata": {},
     "output_type": "execute_result"
    }
   ],
   "source": [
    "#index function gives the index of first occurence of the string\n",
    "bacon=[3.14,'cat',11,'cat',True]\n",
    "bacon.index('cat')"
   ]
  },
  {
   "cell_type": "markdown",
   "id": "3b0a3194",
   "metadata": {},
   "source": [
    "## 7. How does bacon.append(99) change the look of the list value in bacon?"
   ]
  },
  {
   "cell_type": "markdown",
   "id": "7360c343",
   "metadata": {},
   "source": [
    "append function will add the item at the end of the list\n"
   ]
  },
  {
   "cell_type": "code",
   "execution_count": 11,
   "id": "ad61bba3",
   "metadata": {},
   "outputs": [
    {
     "data": {
      "text/plain": [
       "[3.14, 'cat', 11, 'cat', True, 99]"
      ]
     },
     "execution_count": 11,
     "metadata": {},
     "output_type": "execute_result"
    }
   ],
   "source": [
    "bacon=[3.14,'cat',11,'cat',True]\n",
    "bacon.append(99)\n",
    "bacon"
   ]
  },
  {
   "cell_type": "markdown",
   "id": "800fa605",
   "metadata": {},
   "source": [
    "## 8. How does bacon.remove(&#39;cat&#39;) change the look of the list in bacon?"
   ]
  },
  {
   "cell_type": "markdown",
   "id": "85adce8a",
   "metadata": {},
   "source": [
    "remove function will remove the first occurence of the string given"
   ]
  },
  {
   "cell_type": "code",
   "execution_count": 12,
   "id": "d547a78e",
   "metadata": {},
   "outputs": [
    {
     "data": {
      "text/plain": [
       "[3.14, 11, 'cat', True]"
      ]
     },
     "execution_count": 12,
     "metadata": {},
     "output_type": "execute_result"
    }
   ],
   "source": [
    "bacon=[3.14,'cat',11,'cat',True]\n",
    "bacon.remove('cat') \n",
    "bacon"
   ]
  },
  {
   "cell_type": "markdown",
   "id": "507090d5",
   "metadata": {},
   "source": [
    "## 9. What are the list concatenation and list replication operators?"
   ]
  },
  {
   "cell_type": "markdown",
   "id": "db6ceef7",
   "metadata": {},
   "source": [
    "The operator for list concatenation is +, while the operator for replication is *"
   ]
  },
  {
   "cell_type": "code",
   "execution_count": 15,
   "id": "df16c911",
   "metadata": {},
   "outputs": [
    {
     "data": {
      "text/plain": [
       "['hi', 'my', 'is', 'shikha']"
      ]
     },
     "execution_count": 15,
     "metadata": {},
     "output_type": "execute_result"
    }
   ],
   "source": [
    "#list concatenation\n",
    "list1=['hi','my']\n",
    "list2=['is','shikha']\n",
    "listnew=list1+list2\n",
    "listnew"
   ]
  },
  {
   "cell_type": "code",
   "execution_count": 16,
   "id": "417ebb7f",
   "metadata": {},
   "outputs": [
    {
     "data": {
      "text/plain": [
       "['hi', 'my', 'is', 'shikha', 'hi', 'my', 'is', 'shikha']"
      ]
     },
     "execution_count": 16,
     "metadata": {},
     "output_type": "execute_result"
    }
   ],
   "source": [
    "# list replication\n",
    "list1=['hi','my','is','shikha']\n",
    "list_new=list1*2\n",
    "list_new"
   ]
  },
  {
   "cell_type": "markdown",
   "id": "52e9f32b",
   "metadata": {},
   "source": [
    "## 10. What is difference between the list methods append() and insert()?"
   ]
  },
  {
   "cell_type": "markdown",
   "id": "13bbe20d",
   "metadata": {},
   "source": [
    "append method will add the element at the end whereas insert needs two arguments the first is index and the second is element and it inserts the elemen at that position in the list."
   ]
  },
  {
   "cell_type": "code",
   "execution_count": 17,
   "id": "d00c89a9",
   "metadata": {},
   "outputs": [
    {
     "data": {
      "text/plain": [
       "['hi', 'my', 'is', 'shikha', 'ramrakhyani']"
      ]
     },
     "execution_count": 17,
     "metadata": {},
     "output_type": "execute_result"
    }
   ],
   "source": [
    "#append function\n",
    "list1=['hi','my','is','shikha']\n",
    "list1.append('ramrakhyani')\n",
    "list1"
   ]
  },
  {
   "cell_type": "code",
   "execution_count": 18,
   "id": "924fe45a",
   "metadata": {},
   "outputs": [
    {
     "data": {
      "text/plain": [
       "['hi', 'my', 'is', 'shikha']"
      ]
     },
     "execution_count": 18,
     "metadata": {},
     "output_type": "execute_result"
    }
   ],
   "source": [
    "# insert function\n",
    "list1=['hi','my','shikha']\n",
    "list1.insert(2,'is')\n",
    "list1"
   ]
  },
  {
   "cell_type": "markdown",
   "id": "82968782",
   "metadata": {},
   "source": [
    "## 11. What are the two methods for removing items from a list?"
   ]
  },
  {
   "cell_type": "markdown",
   "id": "5ce75c07",
   "metadata": {},
   "source": [
    "1.The remove() method removes the specified item.\n",
    "\n",
    "2.The pop() method removes the specified index.If you do not specify the index, the pop() method removes the last item.\n",
    "\n",
    "3.The del keyword also removes the specified index.The del keyword can also delete the list completely.\n",
    "\n",
    "4.The clear() method empties the list.The list still remains, but it has no content.\n"
   ]
  },
  {
   "cell_type": "markdown",
   "id": "01e77e5d",
   "metadata": {},
   "source": [
    "## 12. Describe how list values and string values are identical."
   ]
  },
  {
   "cell_type": "markdown",
   "id": "805ea0e7",
   "metadata": {},
   "source": [
    "the indexing for list values and for the string values is similar so we can apply most of the list methods to string as well but not all the methods as string is immutable."
   ]
  },
  {
   "cell_type": "code",
   "execution_count": null,
   "id": "8b8b8fad",
   "metadata": {},
   "outputs": [],
   "source": [
    "#not possible\n",
    "s=\"shikha\"\n",
    "s.insert(2,'g')\n",
    "s"
   ]
  },
  {
   "cell_type": "markdown",
   "id": "4f3e44b6",
   "metadata": {},
   "source": [
    "## 13. What&#39;s the difference between tuples and lists?"
   ]
  },
  {
   "cell_type": "code",
   "execution_count": null,
   "id": "ed127d85",
   "metadata": {},
   "outputs": [],
   "source": [
    "tuples are immutable whereas lists are mutable"
   ]
  },
  {
   "cell_type": "markdown",
   "id": "812c7395",
   "metadata": {},
   "source": [
    "## 14. How do you type a tuple value that only contains the integer 42?"
   ]
  },
  {
   "cell_type": "code",
   "execution_count": 22,
   "id": "b0eff51f",
   "metadata": {},
   "outputs": [
    {
     "data": {
      "text/plain": [
       "42"
      ]
     },
     "execution_count": 22,
     "metadata": {},
     "output_type": "execute_result"
    }
   ],
   "source": [
    "my_tuple=(42)\n",
    "my_tuple"
   ]
  },
  {
   "cell_type": "markdown",
   "id": "7da44637",
   "metadata": {},
   "source": [
    "## 15. How do you get a list value&#39;s tuple form? How do you get a tuple value&#39;s list form?"
   ]
  },
  {
   "cell_type": "markdown",
   "id": "f4f1d901",
   "metadata": {},
   "source": [
    "by type casting"
   ]
  },
  {
   "cell_type": "code",
   "execution_count": 23,
   "id": "9bc6c7cf",
   "metadata": {},
   "outputs": [
    {
     "name": "stdout",
     "output_type": "stream",
     "text": [
      "This is list:['hi', 'my', 'is', 'shikha']\n",
      "This is tuple:('hi', 'my', 'is', 'shikha')\n"
     ]
    }
   ],
   "source": [
    "#changing list to tuple\n",
    "list1=['hi','my','is','shikha']\n",
    "print(f\"This is list:{list1}\")\n",
    "print(f\"This is tuple:{tuple(list1)}\")"
   ]
  },
  {
   "cell_type": "code",
   "execution_count": 25,
   "id": "bba8ac9d",
   "metadata": {},
   "outputs": [
    {
     "name": "stdout",
     "output_type": "stream",
     "text": [
      "This is tuple:('hi', 'my', 'is', 'shikha')\n",
      "This is list:['hi', 'my', 'is', 'shikha']\n"
     ]
    }
   ],
   "source": [
    "#changing tuple to list\n",
    "tup1=('hi', 'my', 'is', 'shikha')\n",
    "print(f\"This is tuple:{tup1}\")\n",
    "print(f\"This is list:{list(tup1)}\")"
   ]
  },
  {
   "cell_type": "markdown",
   "id": "09fd2b1f",
   "metadata": {},
   "source": [
    "## 16. Variables that &quot;contain&quot; list values are not necessarily lists themselves. Instead, what do they contain?"
   ]
  },
  {
   "cell_type": "markdown",
   "id": "eed89b51",
   "metadata": {},
   "source": [
    "It can be an array as well"
   ]
  },
  {
   "cell_type": "markdown",
   "id": "f2f397ed",
   "metadata": {},
   "source": [
    "## 17. How do you distinguish between copy.copy() and copy.deepcopy()?"
   ]
  },
  {
   "cell_type": "markdown",
   "id": "b7a8d88a",
   "metadata": {},
   "source": [
    "copy.copy() is used to copy normal list or mutable objects.\n",
    "\n",
    "\n",
    "copy.deepcopy() is used to copy nested list or comppound mutable objects"
   ]
  }
 ],
 "metadata": {
  "kernelspec": {
   "display_name": "Python 3 (ipykernel)",
   "language": "python",
   "name": "python3"
  },
  "language_info": {
   "codemirror_mode": {
    "name": "ipython",
    "version": 3
   },
   "file_extension": ".py",
   "mimetype": "text/x-python",
   "name": "python",
   "nbconvert_exporter": "python",
   "pygments_lexer": "ipython3",
   "version": "3.9.7"
  }
 },
 "nbformat": 4,
 "nbformat_minor": 5
}
